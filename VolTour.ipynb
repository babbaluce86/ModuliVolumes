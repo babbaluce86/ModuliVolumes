{
 "cells": [
  {
   "cell_type": "markdown",
   "id": "cfbd1576-f9a7-457a-95f1-c1482b96df18",
   "metadata": {},
   "source": [
    "# On the continuity of Weil-Petersson volumes of the moduli space weighted points on the projective line\n",
    "\n",
    "This notebook refers to the following academic paper:\n",
    "\n",
    "https://arxiv.org/abs/2109.05007\n",
    "\n",
    "\n",
    "We present an algorithm to pursue an anomaly test on large scale of two formulas for computing the volume of the moduli space of weighted points in $\\mathbb{P}^1.$\n",
    "\n",
    "The two formulas presented in the paper are shown to be equal via a continuity argument. The code performs a *sanity check* of this result. "
   ]
  },
  {
   "cell_type": "code",
   "execution_count": 2,
   "id": "03996384-f131-4179-a2a7-f9b3a4019599",
   "metadata": {},
   "outputs": [],
   "source": [
    "from corefunctions import AnomalyTest"
   ]
  },
  {
   "cell_type": "code",
   "execution_count": 3,
   "id": "ae88bebb-2bb4-4460-8c34-a66b783892d3",
   "metadata": {},
   "outputs": [
    {
     "name": "stdout",
     "output_type": "stream",
     "text": [
      "Total anomalies [0]\n"
     ]
    }
   ],
   "source": [
    "test = AnomalyTest(length=5, total_tests=1000) \n",
    "\n",
    "# length is the number of points on the projective line.\n",
    "# total test is the amount of iterations for cheching that the two formulas are the same.\n",
    "\n",
    "test.run_test()"
   ]
  },
  {
   "cell_type": "code",
   "execution_count": null,
   "id": "524febc3-bc55-4d2e-9bfc-496eed72907e",
   "metadata": {},
   "outputs": [],
   "source": []
  }
 ],
 "metadata": {
  "kernelspec": {
   "display_name": "Python 3 (ipykernel)",
   "language": "python",
   "name": "python3"
  },
  "language_info": {
   "codemirror_mode": {
    "name": "ipython",
    "version": 3
   },
   "file_extension": ".py",
   "mimetype": "text/x-python",
   "name": "python",
   "nbconvert_exporter": "python",
   "pygments_lexer": "ipython3",
   "version": "3.8.5"
  }
 },
 "nbformat": 4,
 "nbformat_minor": 5
}
